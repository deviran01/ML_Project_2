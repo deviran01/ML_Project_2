{
  "nbformat": 4,
  "nbformat_minor": 0,
  "metadata": {
    "kernelspec": {
      "display_name": "Python 3",
      "language": "python",
      "name": "python3"
    },
    "language_info": {
      "codemirror_mode": {
        "name": "ipython",
        "version": 3
      },
      "file_extension": ".py",
      "mimetype": "text/x-python",
      "name": "python",
      "nbconvert_exporter": "python",
      "pygments_lexer": "ipython3",
      "version": "3.6.6"
    },
    "colab": {
      "name": "ML_Project_2_Ali_Sarkhosh.ipynb",
      "provenance": [],
      "collapsed_sections": [
        "qDoEkJRSZ1eo"
      ],
      "include_colab_link": true
    }
  },
  "cells": [
    {
      "cell_type": "markdown",
      "metadata": {
        "id": "view-in-github",
        "colab_type": "text"
      },
      "source": [
        "<a href=\"https://colab.research.google.com/github/deviran01/ML_Project_2/blob/main/ML_Project_2_Ali_Sarkhosh.ipynb\" target=\"_parent\"><img src=\"https://colab.research.google.com/assets/colab-badge.svg\" alt=\"Open In Colab\"/></a>"
      ]
    },
    {
      "cell_type": "markdown",
      "metadata": {
        "_uuid": "5878df22aae1c5888a07fe2c49d0bbe1551a3c55",
        "id": "sS-fTTtuZ1eP"
      },
      "source": [
        "\n",
        "<div dir=auto>\n",
        "\n",
        "**به نام خدا**\n",
        "\n",
        "\n",
        "\n",
        "---\n",
        "\n",
        "\n",
        "پروژه دوم درس پادگیری ماشین\n",
        "\n",
        "## عنوان \n",
        "\n",
        "\n",
        "بررسی و دسته بندی افراد دارای بیماری قلبی با استفاده از مشخصه های فردی نمونه ها\n",
        "\n",
        "\n",
        "\n",
        "دکتر احمدزاده\n",
        "\n",
        "\n",
        "\n",
        "علی سرخوش\n",
        "\n",
        "\n",
        "زمستان 1399\n",
        "\n",
        "\n",
        "\n",
        "\n",
        "---\n",
        "\n",
        "\n",
        "\n",
        "## چکیده\n",
        "\n",
        "امروزه بيماري قلبي بسيار معمول و يکي از دلايل اصلي مرگ و مير به شمار مي رود. به همين علت تشخيص درست و به موقع اين بيماري بسيار مهم است. روش هاي تشخيصي و درماني اين بيماري عوارض جانبي زياد و پرهزينه اي دارد. بنابراين محققان به دنبال روش هاي ارزان و با دقت بالا براي تشخيص اين بيماري هستند.این پژوهش با هدف شناسايي الگويي براي تشخيص روش درمان بيماري قلبي صورت گرفته است و به بررسی روش های تشخیص بیماری های قلبی بر اساس الگوریتم های مختلفی چون رگرسیون لجستیک ، درخت تصمیم ، جنگل تصادفی ،  K-nearest neighbour (KNN) classification ،  Support Vector Machine(SVM) ، Naïve Bayes، می پردازد .\n",
        "هدف اين مطالعه ارايه مدلي براي پيش بيني روش درماني مناسب بيماري قلبي به منظور کاهش هزينه هاي درمان و کيفيت ارايه خدمات بهتر به پزشکان مي باشد. با توجه به قابل ملاحظه بودن خطرات اجراي روش هاي تشخيص تهاجمي مانند آنژيوگرافي و نيز حصول تجارب موفقيت آميز داده کاوي در پزشکي، اين مطالعه مدلي مبتني بر تکنيک هاي داده کاوي بر اساس الگوریتم های خاصی ارايه نموده است. نقطه قابل بهبود مدل فوق ارايه سيستمي یادگیری ماشین جهت کمک به پزشکان براي افزايش صحت تشخيص و روش درمان بيماري مي باشد.\n",
        "\n",
        "\n",
        "\n",
        "\n",
        "کلید واژه ها :\n",
        "\n",
        "بیماری قلبی ، الگوریتم جنگل تصادفی، الگوریتم درخت تصمیم ، رگرسیون لجستیک ، K-nearest neighbour (KNN) classification ،  Support Vector Machine(SVM) ،  Naïve Bayes \n",
        "        \n",
        "\n",
        "\n",
        "---\n",
        "\n",
        "\n",
        "\n",
        "## مقدمه\n",
        "\n",
        "بیماری قلبی-عروقی (به انگلیسی: Cardiovascular disease) یا بیماری قلبی (heart disease) دسته‌ای از بیماری‌ها است که در قلب یا رگ‌ها (سرخرگ‌ها، مویرگ‌ها و سیاهرگ‌ها) رخ می‌دهد و هر گونه اختلال قلبی را پوشش می دهد. برخلاف بیماری قلبی عروقی، که مشکلات عروق خونی، سیستم گردش خون و قلب را توصیف می کند، بیماری قلبی به مشکلات و ناهنجاری های خود قلب اشاره می کند.\n",
        "بیماری قلبی - عروقی نخستین علت مرگ و میر در ایران به شمار می‌رود به طوری که تقریبا ۴۰ درصد فوت جوانان در ایران به دلیل بیماری های قلبی-عروقی است که این آمار روبه افزایش است. الگوهای نامناسب غذایی به طرز چشمگیری در افزایش این روند تاثیر دارد. \n",
        "يکي از شايع ترين بيماري ها و علل مرگ و مير در دنياي امروز بيماري هاي قلبي است. استفاده از تکنيک هاي داده کاوي براي ايجاد مدل هاي پيشگويي کننده، جهت شناسايي افراد در معرض خطر براي کاهش عوارض ناشي از بيماري بسيار کمک کننده است. در اين پژوهش با استفاده از الگوریتم ها به روش هاي پيشگيري و تشخيص اين بيماري پرداخته مي شود.\n",
        "با توجه به مدل های استفاده شده مشخص شد که به ترتيب متغيرهاي سطح بالاي کلسترول، جنسيت، سن بالا، بالا بودن ماکزيمم ضربان قلب،  نوار قلب غيرنرمال بيشترين تاثير را در ابتلا به بيماري عروق کرونر قلبي دارا هستند. همچنين به کمک الگوریتم های ايجاد شده، قوانيني استخراج شده است که مي تواند به عنوان الگويي در جهت پيشگويي احتمال ابتلا افراد به بيماري عروق کرونر قلبي استفاده شود. \n",
        "\n",
        "\n",
        "</div>\n",
        "\n",
        "\n",
        "\n"
      ]
    },
    {
      "cell_type": "markdown",
      "metadata": {
        "id": "J46Ghdy5UTLv"
      },
      "source": [
        "Source:\n",
        "\n",
        "Creators:\n",
        "\n",
        "1. Hungarian Institute of Cardiology. Budapest: Andras Janosi, M.D.\n",
        "2. University Hospital, Zurich, Switzerland: William Steinbrunn, M.D.\n",
        "3. University Hospital, Basel, Switzerland: Matthias Pfisterer, M.D.\n",
        "4. V.A. Medical Center, Long Beach and Cleveland Clinic Foundation: Robert Detrano, M.D., Ph.D."
      ]
    },
    {
      "cell_type": "markdown",
      "metadata": {
        "id": "sOiq46yiUWBM"
      },
      "source": [
        "[Dataset Link](https://archive.ics.uci.edu/ml/datasets/Heart+Disease)"
      ]
    },
    {
      "cell_type": "markdown",
      "metadata": {
        "id": "0KNpGc9HUkxj"
      },
      "source": [
        "Dataset \n",
        "<img src=\"https://cdn1.bbcode0.com/uploads/2021/2/3/a6362610e3fd220d59d1b6d4d4005c1f-full.png\" width=\"400px\"/>"
      ]
    },
    {
      "cell_type": "markdown",
      "metadata": {
        "id": "jaMBGszFnc-o"
      },
      "source": [
        "<div dir=auto>\n",
        "\n",
        "## افزودن کتابخانه های مورد نیاز\n",
        "\n",
        "</dir>\n"
      ]
    },
    {
      "cell_type": "code",
      "metadata": {
        "_cell_guid": "b1076dfc-b9ad-4769-8c92-a6c4dae69d19",
        "_uuid": "8f2839f25d086af736a60e9eeb907d3b93b6e0e5",
        "id": "p1jBoobQZ1eR"
      },
      "source": [
        "import numpy as np\n",
        "import pandas as pd\n",
        "import matplotlib.pyplot as plt\n",
        "import seaborn as sns\n",
        "from sklearn.linear_model import LogisticRegression\n",
        "from sklearn.model_selection import train_test_split\n",
        "from google.colab import drive\n"
      ],
      "execution_count": 52,
      "outputs": []
    },
    {
      "cell_type": "markdown",
      "metadata": {
        "_cell_guid": "79c7e3d0-c299-4dcb-8224-4455121ee9b0",
        "_uuid": "d629ff2d2480ee46fbb7e2d37f6b5fab8052498a",
        "collapsed": true,
        "id": "RxFmEblZZ1eT"
      },
      "source": [
        "\n",
        "<div dir=auto>\n",
        "\n",
        "## اتصال به سرور گوگل درایو جهت خواندن دیتاست\n",
        "\n",
        "</dir>"
      ]
    },
    {
      "cell_type": "code",
      "metadata": {
        "_uuid": "8d0ffd4e0549f6f2eb24c7cc258256f2fb63ec48",
        "colab": {
          "base_uri": "https://localhost:8080/"
        },
        "id": "GGw1x0RYZ1eU",
        "outputId": "9df3d8b7-c01e-412d-ec15-7dfbc40c03b9"
      },
      "source": [
        "drive.mount('/content/drive')\n",
        "\n",
        "df = pd.read_csv('/content/drive/MyDrive/heart.csv')"
      ],
      "execution_count": 5,
      "outputs": [
        {
          "output_type": "stream",
          "text": [
            "Drive already mounted at /content/drive; to attempt to forcibly remount, call drive.mount(\"/content/drive\", force_remount=True).\n"
          ],
          "name": "stdout"
        }
      ]
    },
    {
      "cell_type": "markdown",
      "metadata": {
        "id": "ex0q4qTCn0aY"
      },
      "source": [
        "\n",
        "<div dir=auto>\n",
        "\n",
        "## بررسی ساختار داده ها\n",
        "\n",
        "\n",
        "</dir>"
      ]
    },
    {
      "cell_type": "code",
      "metadata": {
        "_uuid": "4dee2636361981b0f92a8a585d49f581283d6222",
        "colab": {
          "base_uri": "https://localhost:8080/",
          "height": 195
        },
        "id": "73jenZfQZ1eV",
        "outputId": "47888720-5a49-4d3f-c309-018a9e56d59e"
      },
      "source": [
        "df.head()"
      ],
      "execution_count": 6,
      "outputs": [
        {
          "output_type": "execute_result",
          "data": {
            "text/html": [
              "<div>\n",
              "<style scoped>\n",
              "    .dataframe tbody tr th:only-of-type {\n",
              "        vertical-align: middle;\n",
              "    }\n",
              "\n",
              "    .dataframe tbody tr th {\n",
              "        vertical-align: top;\n",
              "    }\n",
              "\n",
              "    .dataframe thead th {\n",
              "        text-align: right;\n",
              "    }\n",
              "</style>\n",
              "<table border=\"1\" class=\"dataframe\">\n",
              "  <thead>\n",
              "    <tr style=\"text-align: right;\">\n",
              "      <th></th>\n",
              "      <th>age</th>\n",
              "      <th>sex</th>\n",
              "      <th>cp</th>\n",
              "      <th>trestbps</th>\n",
              "      <th>chol</th>\n",
              "      <th>fbs</th>\n",
              "      <th>restecg</th>\n",
              "      <th>thalach</th>\n",
              "      <th>exang</th>\n",
              "      <th>oldpeak</th>\n",
              "      <th>slope</th>\n",
              "      <th>ca</th>\n",
              "      <th>thal</th>\n",
              "      <th>target</th>\n",
              "    </tr>\n",
              "  </thead>\n",
              "  <tbody>\n",
              "    <tr>\n",
              "      <th>0</th>\n",
              "      <td>63</td>\n",
              "      <td>1</td>\n",
              "      <td>3</td>\n",
              "      <td>145</td>\n",
              "      <td>233</td>\n",
              "      <td>1</td>\n",
              "      <td>0</td>\n",
              "      <td>150</td>\n",
              "      <td>0</td>\n",
              "      <td>2.3</td>\n",
              "      <td>0</td>\n",
              "      <td>0</td>\n",
              "      <td>1</td>\n",
              "      <td>1</td>\n",
              "    </tr>\n",
              "    <tr>\n",
              "      <th>1</th>\n",
              "      <td>37</td>\n",
              "      <td>1</td>\n",
              "      <td>2</td>\n",
              "      <td>130</td>\n",
              "      <td>250</td>\n",
              "      <td>0</td>\n",
              "      <td>1</td>\n",
              "      <td>187</td>\n",
              "      <td>0</td>\n",
              "      <td>3.5</td>\n",
              "      <td>0</td>\n",
              "      <td>0</td>\n",
              "      <td>2</td>\n",
              "      <td>1</td>\n",
              "    </tr>\n",
              "    <tr>\n",
              "      <th>2</th>\n",
              "      <td>41</td>\n",
              "      <td>0</td>\n",
              "      <td>1</td>\n",
              "      <td>130</td>\n",
              "      <td>204</td>\n",
              "      <td>0</td>\n",
              "      <td>0</td>\n",
              "      <td>172</td>\n",
              "      <td>0</td>\n",
              "      <td>1.4</td>\n",
              "      <td>2</td>\n",
              "      <td>0</td>\n",
              "      <td>2</td>\n",
              "      <td>1</td>\n",
              "    </tr>\n",
              "    <tr>\n",
              "      <th>3</th>\n",
              "      <td>56</td>\n",
              "      <td>1</td>\n",
              "      <td>1</td>\n",
              "      <td>120</td>\n",
              "      <td>236</td>\n",
              "      <td>0</td>\n",
              "      <td>1</td>\n",
              "      <td>178</td>\n",
              "      <td>0</td>\n",
              "      <td>0.8</td>\n",
              "      <td>2</td>\n",
              "      <td>0</td>\n",
              "      <td>2</td>\n",
              "      <td>1</td>\n",
              "    </tr>\n",
              "    <tr>\n",
              "      <th>4</th>\n",
              "      <td>57</td>\n",
              "      <td>0</td>\n",
              "      <td>0</td>\n",
              "      <td>120</td>\n",
              "      <td>354</td>\n",
              "      <td>0</td>\n",
              "      <td>1</td>\n",
              "      <td>163</td>\n",
              "      <td>1</td>\n",
              "      <td>0.6</td>\n",
              "      <td>2</td>\n",
              "      <td>0</td>\n",
              "      <td>2</td>\n",
              "      <td>1</td>\n",
              "    </tr>\n",
              "  </tbody>\n",
              "</table>\n",
              "</div>"
            ],
            "text/plain": [
              "   age  sex  cp  trestbps  chol  fbs  ...  exang  oldpeak  slope  ca  thal  target\n",
              "0   63    1   3       145   233    1  ...      0      2.3      0   0     1       1\n",
              "1   37    1   2       130   250    0  ...      0      3.5      0   0     2       1\n",
              "2   41    0   1       130   204    0  ...      0      1.4      2   0     2       1\n",
              "3   56    1   1       120   236    0  ...      0      0.8      2   0     2       1\n",
              "4   57    0   0       120   354    0  ...      1      0.6      2   0     2       1\n",
              "\n",
              "[5 rows x 14 columns]"
            ]
          },
          "metadata": {
            "tags": []
          },
          "execution_count": 6
        }
      ]
    },
    {
      "cell_type": "markdown",
      "metadata": {
        "_uuid": "e7df2228490edc65cef3d01659b4ef96fe15e191",
        "id": "srrugAo-Z1eV"
      },
      "source": [
        "\n",
        "\n",
        "<div dir=rtl>\n",
        "ساختار داده ها <br>\n",
        "\n",
        "\n",
        "* age- سن - به سال <br>\n",
        "* sex -جنسیت ( 1=مرد | 0=زن) <br>\n",
        "* trestbps -درد قفسه سینه - نوع درد قفسه سینه <br>\n",
        "* فشار خون در حال استراحت (در میلی متر جیوه هنگام پذیرش در بیمارستان) <br>\n",
        "* chol -کلسترول، سرم در میلی گرم / دسی لیتر <br>\n",
        "* fbs -(قند خون ناشتا> 120 میلی گرم در دسی لیتر) (1 = درست ؛ 0 = نادرست) <br>\n",
        "* restecg -نتایج الکتروکاردیوگرافی در حال استراحت <br>\n",
        "* thalach - حداکثر ضربان قلب به دست آمده است <br>\n",
        "* exang - آنژین ناشی از ورزش (1 = بله ؛ 0 = خیر) <br>\n",
        "* oldpeak - افسردگی ST ناشی از ورزش نسبت به استراحت است <br>\n",
        "* slope - شیب قسمت ورزش اوج ورزش ST <br>\n",
        "* ca - تعداد عروق اصلی (0-3) که توسط فلوسوپی رنگ شده اند <br>\n",
        "* thal - 3 = طبیعی ؛ 6 = نقص ثابت ؛ 7 = نقص برگشت پذیر <br>\n",
        "* target - بیماری دارد یا نه (1 = بله ، 0 = خیر)\n",
        "</div>"
      ]
    },
    {
      "cell_type": "markdown",
      "metadata": {
        "_uuid": "5c510b6aea2f9083981bf75dc67c5250b3b891c7",
        "id": "WokZUoiYZ1eW"
      },
      "source": [
        "\n",
        "<div dir=auto>\n",
        "\n",
        "## بررسی اولیه نمونه ها\n",
        "\n",
        "\n",
        "</dir>"
      ]
    },
    {
      "cell_type": "code",
      "metadata": {
        "_uuid": "00af1961381609399dd80ca7c6a950277c120357",
        "colab": {
          "base_uri": "https://localhost:8080/"
        },
        "id": "pNddw84LZ1eX",
        "outputId": "8e517a33-d810-4200-be93-49f685d49235"
      },
      "source": [
        "df.target.value_counts()"
      ],
      "execution_count": 7,
      "outputs": [
        {
          "output_type": "execute_result",
          "data": {
            "text/plain": [
              "1    165\n",
              "0    138\n",
              "Name: target, dtype: int64"
            ]
          },
          "metadata": {
            "tags": []
          },
          "execution_count": 7
        }
      ]
    },
    {
      "cell_type": "code",
      "metadata": {
        "_uuid": "f0c639a82d794e41978199f7fa4405a01a7b805e",
        "colab": {
          "base_uri": "https://localhost:8080/",
          "height": 279
        },
        "id": "IOcLnLxaZ1eY",
        "outputId": "da711da0-5a1d-4c9b-d37f-a74d8e03991e"
      },
      "source": [
        "sns.countplot(x=\"target\", data=df, palette=\"bwr\")\n",
        "plt.show()"
      ],
      "execution_count": 56,
      "outputs": [
        {
          "output_type": "display_data",
          "data": {
            "image/png": "[encoded data removed]",
            "text/plain": [
              "<Figure size 432x288 with 1 Axes>"
            ]
          },
          "metadata": {
            "tags": []
          }
        }
      ]
    },
    {
      "cell_type": "markdown",
      "metadata": {
        "id": "xkN3jxwssFea"
      },
      "source": [
        "\n",
        "<div dir=auto>\n",
        "\n",
        "## محاسبه درصد افراد بیمار و سالم\n",
        "\n",
        "\n",
        "</dir>"
      ]
    },
    {
      "cell_type": "code",
      "metadata": {
        "_uuid": "dd20ffc31d87de07a6f2941b0500cda8c0b1b8e6",
        "colab": {
          "base_uri": "https://localhost:8080/"
        },
        "id": "Y00_vsVqZ1eY",
        "outputId": "7614b25a-fde9-46f2-8fad-e712b9194bba"
      },
      "source": [
        "countNoDisease = len(df[df.target == 0])\n",
        "countHaveDisease = len(df[df.target == 1])\n",
        "print(\"Percentage of Patients Haven't Heart Disease: {:.2f}%\".format((countNoDisease / (len(df.target))*100)))\n",
        "print(\"Percentage of Patients Have Heart Disease: {:.2f}%\".format((countHaveDisease / (len(df.target))*100)))"
      ],
      "execution_count": 9,
      "outputs": [
        {
          "output_type": "stream",
          "text": [
            "Percentage of Patients Haven't Heart Disease: 45.54%\n",
            "Percentage of Patients Have Heart Disease: 54.46%\n"
          ],
          "name": "stdout"
        }
      ]
    },
    {
      "cell_type": "markdown",
      "metadata": {
        "id": "5vfDWeojshO5"
      },
      "source": [
        "\n",
        "<div dir=auto>\n",
        "\n",
        "## بررسی تعداد افراد بیمار بنا بر جنسیت\n",
        "\n",
        "\n",
        "</dir>\n"
      ]
    },
    {
      "cell_type": "code",
      "metadata": {
        "_uuid": "aca4074785c40bcf036a59c14c78e3a503904724",
        "colab": {
          "base_uri": "https://localhost:8080/",
          "height": 279
        },
        "id": "PyIMIsUxZ1eZ",
        "outputId": "c294315b-5235-4b82-d360-190c829d2914"
      },
      "source": [
        "sns.countplot(x='sex', data=df, palette=\"mako_r\")\n",
        "plt.xlabel(\"Sex (0 = female, 1= male)\")\n",
        "plt.show()"
      ],
      "execution_count": 10,
      "outputs": [
        {
          "output_type": "display_data",
          "data": {
            "image/png": "[encoded data removed]",
            "text/plain": [
              "<Figure size 432x288 with 1 Axes>"
            ]
          },
          "metadata": {
            "tags": [],
            "needs_background": "light"
          }
        }
      ]
    },
    {
      "cell_type": "markdown",
      "metadata": {
        "id": "zSOEsmn7ssIc"
      },
      "source": [
        "\n",
        "<div dir=auto>\n",
        "\n",
        "## بررسی درصد افراد بیمار بنا بر جنسیت\n",
        "\n",
        "\n",
        "</dir>"
      ]
    },
    {
      "cell_type": "code",
      "metadata": {
        "_uuid": "8780860cb02768a3bf112a41ab67f1f6bebe9146",
        "colab": {
          "base_uri": "https://localhost:8080/"
        },
        "id": "3WcOci2rZ1ea",
        "outputId": "2b25c069-82b1-476f-c540-11e9523339ff"
      },
      "source": [
        "countFemale = len(df[df.sex == 0])\n",
        "countMale = len(df[df.sex == 1])\n",
        "print(\"Percentage of Female Patients: {:.2f}%\".format((countFemale / (len(df.sex))*100)))\n",
        "print(\"Percentage of Male Patients: {:.2f}%\".format((countMale / (len(df.sex))*100)))"
      ],
      "execution_count": 11,
      "outputs": [
        {
          "output_type": "stream",
          "text": [
            "Percentage of Female Patients: 31.68%\n",
            "Percentage of Male Patients: 68.32%\n"
          ],
          "name": "stdout"
        }
      ]
    },
    {
      "cell_type": "markdown",
      "metadata": {
        "id": "gBFKYZamtYn9"
      },
      "source": [
        "\n",
        "\n",
        "<div dir=auto>\n",
        "\n",
        "## محاسبه ی میانه در تمامی داده های موجود بر اساس بیمار بودن یا نبودن\n",
        "\n",
        "\n",
        "</dir>"
      ]
    },
    {
      "cell_type": "code",
      "metadata": {
        "_uuid": "435f8691396c6f2b1a901809286eb64112126582",
        "colab": {
          "base_uri": "https://localhost:8080/",
          "height": 136
        },
        "id": "LYyiC2C8Z1eb",
        "outputId": "43528f89-51b9-4ae2-95aa-a6cb79707f0b"
      },
      "source": [
        "df.groupby('target').mean()"
      ],
      "execution_count": 12,
      "outputs": [
        {
          "output_type": "execute_result",
          "data": {
            "text/html": [
              "<div>\n",
              "<style scoped>\n",
              "    .dataframe tbody tr th:only-of-type {\n",
              "        vertical-align: middle;\n",
              "    }\n",
              "\n",
              "    .dataframe tbody tr th {\n",
              "        vertical-align: top;\n",
              "    }\n",
              "\n",
              "    .dataframe thead th {\n",
              "        text-align: right;\n",
              "    }\n",
              "</style>\n",
              "<table border=\"1\" class=\"dataframe\">\n",
              "  <thead>\n",
              "    <tr style=\"text-align: right;\">\n",
              "      <th></th>\n",
              "      <th>age</th>\n",
              "      <th>sex</th>\n",
              "      <th>cp</th>\n",
              "      <th>trestbps</th>\n",
              "      <th>chol</th>\n",
              "      <th>fbs</th>\n",
              "      <th>restecg</th>\n",
              "      <th>thalach</th>\n",
              "      <th>exang</th>\n",
              "      <th>oldpeak</th>\n",
              "      <th>slope</th>\n",
              "      <th>ca</th>\n",
              "      <th>thal</th>\n",
              "    </tr>\n",
              "    <tr>\n",
              "      <th>target</th>\n",
              "      <th></th>\n",
              "      <th></th>\n",
              "      <th></th>\n",
              "      <th></th>\n",
              "      <th></th>\n",
              "      <th></th>\n",
              "      <th></th>\n",
              "      <th></th>\n",
              "      <th></th>\n",
              "      <th></th>\n",
              "      <th></th>\n",
              "      <th></th>\n",
              "      <th></th>\n",
              "    </tr>\n",
              "  </thead>\n",
              "  <tbody>\n",
              "    <tr>\n",
              "      <th>0</th>\n",
              "      <td>56.601449</td>\n",
              "      <td>0.826087</td>\n",
              "      <td>0.478261</td>\n",
              "      <td>134.398551</td>\n",
              "      <td>251.086957</td>\n",
              "      <td>0.159420</td>\n",
              "      <td>0.449275</td>\n",
              "      <td>139.101449</td>\n",
              "      <td>0.550725</td>\n",
              "      <td>1.585507</td>\n",
              "      <td>1.166667</td>\n",
              "      <td>1.166667</td>\n",
              "      <td>2.543478</td>\n",
              "    </tr>\n",
              "    <tr>\n",
              "      <th>1</th>\n",
              "      <td>52.496970</td>\n",
              "      <td>0.563636</td>\n",
              "      <td>1.375758</td>\n",
              "      <td>129.303030</td>\n",
              "      <td>242.230303</td>\n",
              "      <td>0.139394</td>\n",
              "      <td>0.593939</td>\n",
              "      <td>158.466667</td>\n",
              "      <td>0.139394</td>\n",
              "      <td>0.583030</td>\n",
              "      <td>1.593939</td>\n",
              "      <td>0.363636</td>\n",
              "      <td>2.121212</td>\n",
              "    </tr>\n",
              "  </tbody>\n",
              "</table>\n",
              "</div>"
            ],
            "text/plain": [
              "              age       sex        cp  ...     slope        ca      thal\n",
              "target                                 ...                              \n",
              "0       56.601449  0.826087  0.478261  ...  1.166667  1.166667  2.543478\n",
              "1       52.496970  0.563636  1.375758  ...  1.593939  0.363636  2.121212\n",
              "\n",
              "[2 rows x 13 columns]"
            ]
          },
          "metadata": {
            "tags": []
          },
          "execution_count": 12
        }
      ]
    },
    {
      "cell_type": "markdown",
      "metadata": {
        "id": "i7Aw1RgUttm4"
      },
      "source": [
        "\n",
        "\n",
        "<div dir=auto>\n",
        "\n",
        "## رسم نمودار توزیع بیماری و یا سلامت افراد بر اساس سن\n",
        "\n",
        "\n",
        "</dir>\n"
      ]
    },
    {
      "cell_type": "code",
      "metadata": {
        "_uuid": "e0eed947b5490e93a43515ad6d2a6af9713f16ce",
        "colab": {
          "base_uri": "https://localhost:8080/",
          "height": 390
        },
        "id": "3Hm0gsyNZ1ec",
        "outputId": "05149a67-0a3d-42f8-caa1-4407fd21f8f3"
      },
      "source": [
        "pd.crosstab(df.age,df.target).plot(kind=\"bar\",figsize=(20,6))\n",
        "plt.title('Heart Disease Frequency for Ages')\n",
        "plt.xlabel('Age')\n",
        "plt.ylabel('Frequency')\n",
        "plt.savefig('heartDiseaseAndAges.png')\n",
        "plt.show()"
      ],
      "execution_count": 58,
      "outputs": [
        {
          "output_type": "display_data",
          "data": {
            "image/png": "[encoded data removed]",
            "text/plain": [
              "<Figure size 1440x432 with 1 Axes>"
            ]
          },
          "metadata": {
            "tags": []
          }
        }
      ]
    },
    {
      "cell_type": "markdown",
      "metadata": {
        "id": "WZ2hc9TVvhZo"
      },
      "source": [
        "<div dir=auto>\n",
        "\n",
        "## رسم نمودار بیماری و یا سلامت افراد بر اساس جنسیت\n",
        "\n",
        "\n",
        "</dir>"
      ]
    },
    {
      "cell_type": "code",
      "metadata": {
        "_uuid": "1cb0e9e4ec00ca7caa2e77a03dd0289e1c549708",
        "colab": {
          "base_uri": "https://localhost:8080/",
          "height": 404
        },
        "id": "9rq6WIBPZ1ec",
        "outputId": "c7426a13-1ef2-4c59-ecc1-61ebe0d03149"
      },
      "source": [
        "pd.crosstab(df.sex,df.target).plot(kind=\"bar\",figsize=(15,6),color=['#1CA53B','#AA1111' ])\n",
        "plt.title('Heart Disease Frequency for Sex')\n",
        "plt.xlabel('Sex (0 = Female, 1 = Male)')\n",
        "plt.xticks(rotation=0)\n",
        "plt.legend([\"Haven't Disease\", \"Have Disease\"])\n",
        "plt.ylabel('Frequency')\n",
        "plt.show()"
      ],
      "execution_count": 14,
      "outputs": [
        {
          "output_type": "display_data",
          "data": {
            "image/png": "[encoded data removed]",
            "text/plain": [
              "<Figure size 1080x432 with 1 Axes>"
            ]
          },
          "metadata": {
            "tags": [],
            "needs_background": "light"
          }
        }
      ]
    },
    {
      "cell_type": "markdown",
      "metadata": {
        "id": "4rThELHhwbUt"
      },
      "source": [
        "\n",
        "\n",
        "<div dir=auto>\n",
        "\n",
        "## نمودار حداکثر ضربان قلب افراد سالم و بیمار\n",
        "\n",
        "\n",
        "</dir>"
      ]
    },
    {
      "cell_type": "code",
      "metadata": {
        "_uuid": "e5fe0744106dc26475e2e0274081789518ad8a51",
        "colab": {
          "base_uri": "https://localhost:8080/",
          "height": 279
        },
        "id": "bhtDzj5VZ1ed",
        "outputId": "5e6f0723-4025-4ccb-fe02-d22cb6870215"
      },
      "source": [
        "plt.scatter(x=df.age[df.target==1], y=df.thalach[(df.target==1)], c=\"red\")\n",
        "plt.scatter(x=df.age[df.target==0], y=df.thalach[(df.target==0)])\n",
        "plt.legend([\"Disease\", \"Not Disease\"])\n",
        "plt.xlabel(\"Age\")\n",
        "plt.ylabel(\"Maximum Heart Rate\")\n",
        "plt.show()"
      ],
      "execution_count": 15,
      "outputs": [
        {
          "output_type": "display_data",
          "data": {
            "image/png": "[encoded data removed]",
            "text/plain": [
              "<Figure size 432x288 with 1 Axes>"
            ]
          },
          "metadata": {
            "tags": [],
            "needs_background": "light"
          }
        }
      ]
    },
    {
      "cell_type": "markdown",
      "metadata": {
        "id": "q9WiR69Lwy_c"
      },
      "source": [
        "\n",
        "\n",
        "<div dir=auto>\n",
        "\n",
        "## میزان فشار در اوج ورزش در میان افراد سالم و یا بیمار\n",
        "\n",
        "\n",
        "</dir>\n"
      ]
    },
    {
      "cell_type": "code",
      "metadata": {
        "_uuid": "730062aa471d6774f0b761ad2cb6a7043d339615",
        "colab": {
          "base_uri": "https://localhost:8080/",
          "height": 404
        },
        "id": "4tadqShPZ1ee",
        "outputId": "3300855e-3b7a-4418-ec34-d39bf25b936c"
      },
      "source": [
        "pd.crosstab(df.slope,df.target).plot(kind=\"bar\",figsize=(15,6),color=['#DAF7A6','#FF5733' ])\n",
        "plt.title('Heart Disease Frequency for Slope')\n",
        "plt.xlabel('The Slope of The Peak Exercise ST Segment ')\n",
        "plt.xticks(rotation = 0)\n",
        "plt.ylabel('Frequency')\n",
        "plt.show()"
      ],
      "execution_count": 16,
      "outputs": [
        {
          "output_type": "display_data",
          "data": {
            "image/png": "[encoded data removed]",
            "text/plain": [
              "<Figure size 1080x432 with 1 Axes>"
            ]
          },
          "metadata": {
            "tags": [],
            "needs_background": "light"
          }
        }
      ]
    },
    {
      "cell_type": "markdown",
      "metadata": {
        "id": "nIF5yHZTxFKD"
      },
      "source": [
        "<div dir=auto>\n",
        "\n",
        "## رسم نمودار میزان قند خون افراد سالم و بیمار در حالت ناشتا\n",
        "\n",
        "\n",
        "</dir>"
      ]
    },
    {
      "cell_type": "code",
      "metadata": {
        "_uuid": "3209c3a2fe67592b6ff6851327e98ac7606e14eb",
        "colab": {
          "base_uri": "https://localhost:8080/",
          "height": 404
        },
        "id": "MUYjEIGkZ1ef",
        "outputId": "b7525c1a-27e3-44bb-ea88-b02ebcd00b4e"
      },
      "source": [
        "pd.crosstab(df.fbs,df.target).plot(kind=\"bar\",figsize=(15,6),color=['#FFC300','#581845' ])\n",
        "plt.title('Heart Disease Frequency According To FBS')\n",
        "plt.xlabel('FBS - (Fasting Blood Sugar > 120 mg/dl) (1 = true; 0 = false)')\n",
        "plt.xticks(rotation = 0)\n",
        "plt.legend([\"Haven't Disease\", \"Have Disease\"])\n",
        "plt.ylabel('Frequency of Disease or Not')\n",
        "plt.show()"
      ],
      "execution_count": 17,
      "outputs": [
        {
          "output_type": "display_data",
          "data": {
            "image/png": "[encoded data removed]",
            "text/plain": [
              "<Figure size 1080x432 with 1 Axes>"
            ]
          },
          "metadata": {
            "tags": [],
            "needs_background": "light"
          }
        }
      ]
    },
    {
      "cell_type": "markdown",
      "metadata": {
        "id": "UrDRrwj3eomR"
      },
      "source": [
        "<div dir=auto>\n",
        "\n",
        "## نمودار بررسی بیماران و افراد سالم بر اساس درد سینه\n",
        "\n",
        "\n",
        "</dir>"
      ]
    },
    {
      "cell_type": "code",
      "metadata": {
        "_uuid": "10be6f01d184480eca7437799c214b4847fd3543",
        "colab": {
          "base_uri": "https://localhost:8080/",
          "height": 404
        },
        "id": "YqEZOm5oZ1eg",
        "outputId": "70ac5779-0f15-4510-923d-71caa2c7b74f"
      },
      "source": [
        "pd.crosstab(df.cp,df.target).plot(kind=\"bar\",figsize=(15,6),color=['#11A5AA','#AA1190' ])\n",
        "plt.title('Heart Disease Frequency According To Chest Pain Type')\n",
        "plt.xlabel('Chest Pain Type')\n",
        "plt.xticks(rotation = 0)\n",
        "plt.ylabel('Frequency of Disease or Not')\n",
        "plt.show()"
      ],
      "execution_count": 18,
      "outputs": [
        {
          "output_type": "display_data",
          "data": {
            "image/png": "[encoded data removed]",
            "text/plain": [
              "<Figure size 1080x432 with 1 Axes>"
            ]
          },
          "metadata": {
            "tags": [],
            "needs_background": "light"
          }
        }
      ]
    },
    {
      "cell_type": "markdown",
      "metadata": {
        "_uuid": "e2a8abf83186e8ddff507765dcea4e575e677624",
        "id": "ET5obLhbZ1eg"
      },
      "source": [
        "\n",
        "\n",
        "\n",
        "\n",
        "\n",
        "<div dir=auto>\n",
        "\n",
        "## ساده سازی فیچر ها\n",
        "\n",
        "\n",
        "</dir>"
      ]
    },
    {
      "cell_type": "markdown",
      "metadata": {
        "_uuid": "5d3461c57453ac62a71185997d716b755d00fa33",
        "id": "N3BaDXKvZ1eh"
      },
      "source": [
        "\n",
        "<div dir=rtl>\n",
        "برخی از فیچر های موجود بصورت دسته بندی شده هستند (مانند انواع درد قفسه سینه) که بررسی آنها مشکل خواهد بود\n",
        "از این رو این به فیچر های کوچکتر تبدیل میکنیم ( ویژگی های ساختگی)\n",
        "\n",
        "\n",
        "</div>"
      ]
    },
    {
      "cell_type": "code",
      "metadata": {
        "_uuid": "c2fb6259a757a62926b86aa0eea6f663a8ec094f",
        "id": "sQ3FU07OZ1eh"
      },
      "source": [
        "a = pd.get_dummies(df['cp'], prefix = \"cp\")\n",
        "b = pd.get_dummies(df['thal'], prefix = \"thal\")\n",
        "c = pd.get_dummies(df['slope'], prefix = \"slope\")"
      ],
      "execution_count": 19,
      "outputs": []
    },
    {
      "cell_type": "code",
      "metadata": {
        "_uuid": "50380d91358131ae6b852c9666e4da5c2e4dee66",
        "colab": {
          "base_uri": "https://localhost:8080/",
          "height": 215
        },
        "id": "NN_n2pkMZ1ei",
        "outputId": "97fee0bc-c60f-4dac-adbd-c53e32ac36c3"
      },
      "source": [
        "frames = [df, a, b, c]\n",
        "df = pd.concat(frames, axis = 1)\n",
        "df.head()"
      ],
      "execution_count": 20,
      "outputs": [
        {
          "output_type": "execute_result",
          "data": {
            "text/html": [
              "<div>\n",
              "<style scoped>\n",
              "    .dataframe tbody tr th:only-of-type {\n",
              "        vertical-align: middle;\n",
              "    }\n",
              "\n",
              "    .dataframe tbody tr th {\n",
              "        vertical-align: top;\n",
              "    }\n",
              "\n",
              "    .dataframe thead th {\n",
              "        text-align: right;\n",
              "    }\n",
              "</style>\n",
              "<table border=\"1\" class=\"dataframe\">\n",
              "  <thead>\n",
              "    <tr style=\"text-align: right;\">\n",
              "      <th></th>\n",
              "      <th>age</th>\n",
              "      <th>sex</th>\n",
              "      <th>cp</th>\n",
              "      <th>trestbps</th>\n",
              "      <th>chol</th>\n",
              "      <th>fbs</th>\n",
              "      <th>restecg</th>\n",
              "      <th>thalach</th>\n",
              "      <th>exang</th>\n",
              "      <th>oldpeak</th>\n",
              "      <th>slope</th>\n",
              "      <th>ca</th>\n",
              "      <th>thal</th>\n",
              "      <th>target</th>\n",
              "      <th>cp_0</th>\n",
              "      <th>cp_1</th>\n",
              "      <th>cp_2</th>\n",
              "      <th>cp_3</th>\n",
              "      <th>thal_0</th>\n",
              "      <th>thal_1</th>\n",
              "      <th>thal_2</th>\n",
              "      <th>thal_3</th>\n",
              "      <th>slope_0</th>\n",
              "      <th>slope_1</th>\n",
              "      <th>slope_2</th>\n",
              "    </tr>\n",
              "  </thead>\n",
              "  <tbody>\n",
              "    <tr>\n",
              "      <th>0</th>\n",
              "      <td>63</td>\n",
              "      <td>1</td>\n",
              "      <td>3</td>\n",
              "      <td>145</td>\n",
              "      <td>233</td>\n",
              "      <td>1</td>\n",
              "      <td>0</td>\n",
              "      <td>150</td>\n",
              "      <td>0</td>\n",
              "      <td>2.3</td>\n",
              "      <td>0</td>\n",
              "      <td>0</td>\n",
              "      <td>1</td>\n",
              "      <td>1</td>\n",
              "      <td>0</td>\n",
              "      <td>0</td>\n",
              "      <td>0</td>\n",
              "      <td>1</td>\n",
              "      <td>0</td>\n",
              "      <td>1</td>\n",
              "      <td>0</td>\n",
              "      <td>0</td>\n",
              "      <td>1</td>\n",
              "      <td>0</td>\n",
              "      <td>0</td>\n",
              "    </tr>\n",
              "    <tr>\n",
              "      <th>1</th>\n",
              "      <td>37</td>\n",
              "      <td>1</td>\n",
              "      <td>2</td>\n",
              "      <td>130</td>\n",
              "      <td>250</td>\n",
              "      <td>0</td>\n",
              "      <td>1</td>\n",
              "      <td>187</td>\n",
              "      <td>0</td>\n",
              "      <td>3.5</td>\n",
              "      <td>0</td>\n",
              "      <td>0</td>\n",
              "      <td>2</td>\n",
              "      <td>1</td>\n",
              "      <td>0</td>\n",
              "      <td>0</td>\n",
              "      <td>1</td>\n",
              "      <td>0</td>\n",
              "      <td>0</td>\n",
              "      <td>0</td>\n",
              "      <td>1</td>\n",
              "      <td>0</td>\n",
              "      <td>1</td>\n",
              "      <td>0</td>\n",
              "      <td>0</td>\n",
              "    </tr>\n",
              "    <tr>\n",
              "      <th>2</th>\n",
              "      <td>41</td>\n",
              "      <td>0</td>\n",
              "      <td>1</td>\n",
              "      <td>130</td>\n",
              "      <td>204</td>\n",
              "      <td>0</td>\n",
              "      <td>0</td>\n",
              "      <td>172</td>\n",
              "      <td>0</td>\n",
              "      <td>1.4</td>\n",
              "      <td>2</td>\n",
              "      <td>0</td>\n",
              "      <td>2</td>\n",
              "      <td>1</td>\n",
              "      <td>0</td>\n",
              "      <td>1</td>\n",
              "      <td>0</td>\n",
              "      <td>0</td>\n",
              "      <td>0</td>\n",
              "      <td>0</td>\n",
              "      <td>1</td>\n",
              "      <td>0</td>\n",
              "      <td>0</td>\n",
              "      <td>0</td>\n",
              "      <td>1</td>\n",
              "    </tr>\n",
              "    <tr>\n",
              "      <th>3</th>\n",
              "      <td>56</td>\n",
              "      <td>1</td>\n",
              "      <td>1</td>\n",
              "      <td>120</td>\n",
              "      <td>236</td>\n",
              "      <td>0</td>\n",
              "      <td>1</td>\n",
              "      <td>178</td>\n",
              "      <td>0</td>\n",
              "      <td>0.8</td>\n",
              "      <td>2</td>\n",
              "      <td>0</td>\n",
              "      <td>2</td>\n",
              "      <td>1</td>\n",
              "      <td>0</td>\n",
              "      <td>1</td>\n",
              "      <td>0</td>\n",
              "      <td>0</td>\n",
              "      <td>0</td>\n",
              "      <td>0</td>\n",
              "      <td>1</td>\n",
              "      <td>0</td>\n",
              "      <td>0</td>\n",
              "      <td>0</td>\n",
              "      <td>1</td>\n",
              "    </tr>\n",
              "    <tr>\n",
              "      <th>4</th>\n",
              "      <td>57</td>\n",
              "      <td>0</td>\n",
              "      <td>0</td>\n",
              "      <td>120</td>\n",
              "      <td>354</td>\n",
              "      <td>0</td>\n",
              "      <td>1</td>\n",
              "      <td>163</td>\n",
              "      <td>1</td>\n",
              "      <td>0.6</td>\n",
              "      <td>2</td>\n",
              "      <td>0</td>\n",
              "      <td>2</td>\n",
              "      <td>1</td>\n",
              "      <td>1</td>\n",
              "      <td>0</td>\n",
              "      <td>0</td>\n",
              "      <td>0</td>\n",
              "      <td>0</td>\n",
              "      <td>0</td>\n",
              "      <td>1</td>\n",
              "      <td>0</td>\n",
              "      <td>0</td>\n",
              "      <td>0</td>\n",
              "      <td>1</td>\n",
              "    </tr>\n",
              "  </tbody>\n",
              "</table>\n",
              "</div>"
            ],
            "text/plain": [
              "   age  sex  cp  trestbps  chol  ...  thal_2  thal_3  slope_0  slope_1  slope_2\n",
              "0   63    1   3       145   233  ...       0       0        1        0        0\n",
              "1   37    1   2       130   250  ...       1       0        1        0        0\n",
              "2   41    0   1       130   204  ...       1       0        0        0        1\n",
              "3   56    1   1       120   236  ...       1       0        0        0        1\n",
              "4   57    0   0       120   354  ...       1       0        0        0        1\n",
              "\n",
              "[5 rows x 25 columns]"
            ]
          },
          "metadata": {
            "tags": []
          },
          "execution_count": 20
        }
      ]
    },
    {
      "cell_type": "markdown",
      "metadata": {
        "id": "LWIqhdEnEn1O"
      },
      "source": [
        "\n",
        "<div dir=auto>\n",
        "\n",
        "## ستون های ویژگی های قبلی را حذف میکنیم\n",
        "\n",
        "\n",
        "</dir>\n"
      ]
    },
    {
      "cell_type": "code",
      "metadata": {
        "_uuid": "01011d45333bde3d9f95e3db93ae4517c72a741f",
        "colab": {
          "base_uri": "https://localhost:8080/",
          "height": 215
        },
        "id": "2ngY4xEbZ1ei",
        "outputId": "d84d2af8-35f0-4be1-99dc-18007a48e41b"
      },
      "source": [
        "df = df.drop(columns = ['cp', 'thal', 'slope'])\n",
        "df.head()"
      ],
      "execution_count": 21,
      "outputs": [
        {
          "output_type": "execute_result",
          "data": {
            "text/html": [
              "<div>\n",
              "<style scoped>\n",
              "    .dataframe tbody tr th:only-of-type {\n",
              "        vertical-align: middle;\n",
              "    }\n",
              "\n",
              "    .dataframe tbody tr th {\n",
              "        vertical-align: top;\n",
              "    }\n",
              "\n",
              "    .dataframe thead th {\n",
              "        text-align: right;\n",
              "    }\n",
              "</style>\n",
              "<table border=\"1\" class=\"dataframe\">\n",
              "  <thead>\n",
              "    <tr style=\"text-align: right;\">\n",
              "      <th></th>\n",
              "      <th>age</th>\n",
              "      <th>sex</th>\n",
              "      <th>trestbps</th>\n",
              "      <th>chol</th>\n",
              "      <th>fbs</th>\n",
              "      <th>restecg</th>\n",
              "      <th>thalach</th>\n",
              "      <th>exang</th>\n",
              "      <th>oldpeak</th>\n",
              "      <th>ca</th>\n",
              "      <th>target</th>\n",
              "      <th>cp_0</th>\n",
              "      <th>cp_1</th>\n",
              "      <th>cp_2</th>\n",
              "      <th>cp_3</th>\n",
              "      <th>thal_0</th>\n",
              "      <th>thal_1</th>\n",
              "      <th>thal_2</th>\n",
              "      <th>thal_3</th>\n",
              "      <th>slope_0</th>\n",
              "      <th>slope_1</th>\n",
              "      <th>slope_2</th>\n",
              "    </tr>\n",
              "  </thead>\n",
              "  <tbody>\n",
              "    <tr>\n",
              "      <th>0</th>\n",
              "      <td>63</td>\n",
              "      <td>1</td>\n",
              "      <td>145</td>\n",
              "      <td>233</td>\n",
              "      <td>1</td>\n",
              "      <td>0</td>\n",
              "      <td>150</td>\n",
              "      <td>0</td>\n",
              "      <td>2.3</td>\n",
              "      <td>0</td>\n",
              "      <td>1</td>\n",
              "      <td>0</td>\n",
              "      <td>0</td>\n",
              "      <td>0</td>\n",
              "      <td>1</td>\n",
              "      <td>0</td>\n",
              "      <td>1</td>\n",
              "      <td>0</td>\n",
              "      <td>0</td>\n",
              "      <td>1</td>\n",
              "      <td>0</td>\n",
              "      <td>0</td>\n",
              "    </tr>\n",
              "    <tr>\n",
              "      <th>1</th>\n",
              "      <td>37</td>\n",
              "      <td>1</td>\n",
              "      <td>130</td>\n",
              "      <td>250</td>\n",
              "      <td>0</td>\n",
              "      <td>1</td>\n",
              "      <td>187</td>\n",
              "      <td>0</td>\n",
              "      <td>3.5</td>\n",
              "      <td>0</td>\n",
              "      <td>1</td>\n",
              "      <td>0</td>\n",
              "      <td>0</td>\n",
              "      <td>1</td>\n",
              "      <td>0</td>\n",
              "      <td>0</td>\n",
              "      <td>0</td>\n",
              "      <td>1</td>\n",
              "      <td>0</td>\n",
              "      <td>1</td>\n",
              "      <td>0</td>\n",
              "      <td>0</td>\n",
              "    </tr>\n",
              "    <tr>\n",
              "      <th>2</th>\n",
              "      <td>41</td>\n",
              "      <td>0</td>\n",
              "      <td>130</td>\n",
              "      <td>204</td>\n",
              "      <td>0</td>\n",
              "      <td>0</td>\n",
              "      <td>172</td>\n",
              "      <td>0</td>\n",
              "      <td>1.4</td>\n",
              "      <td>0</td>\n",
              "      <td>1</td>\n",
              "      <td>0</td>\n",
              "      <td>1</td>\n",
              "      <td>0</td>\n",
              "      <td>0</td>\n",
              "      <td>0</td>\n",
              "      <td>0</td>\n",
              "      <td>1</td>\n",
              "      <td>0</td>\n",
              "      <td>0</td>\n",
              "      <td>0</td>\n",
              "      <td>1</td>\n",
              "    </tr>\n",
              "    <tr>\n",
              "      <th>3</th>\n",
              "      <td>56</td>\n",
              "      <td>1</td>\n",
              "      <td>120</td>\n",
              "      <td>236</td>\n",
              "      <td>0</td>\n",
              "      <td>1</td>\n",
              "      <td>178</td>\n",
              "      <td>0</td>\n",
              "      <td>0.8</td>\n",
              "      <td>0</td>\n",
              "      <td>1</td>\n",
              "      <td>0</td>\n",
              "      <td>1</td>\n",
              "      <td>0</td>\n",
              "      <td>0</td>\n",
              "      <td>0</td>\n",
              "      <td>0</td>\n",
              "      <td>1</td>\n",
              "      <td>0</td>\n",
              "      <td>0</td>\n",
              "      <td>0</td>\n",
              "      <td>1</td>\n",
              "    </tr>\n",
              "    <tr>\n",
              "      <th>4</th>\n",
              "      <td>57</td>\n",
              "      <td>0</td>\n",
              "      <td>120</td>\n",
              "      <td>354</td>\n",
              "      <td>0</td>\n",
              "      <td>1</td>\n",
              "      <td>163</td>\n",
              "      <td>1</td>\n",
              "      <td>0.6</td>\n",
              "      <td>0</td>\n",
              "      <td>1</td>\n",
              "      <td>1</td>\n",
              "      <td>0</td>\n",
              "      <td>0</td>\n",
              "      <td>0</td>\n",
              "      <td>0</td>\n",
              "      <td>0</td>\n",
              "      <td>1</td>\n",
              "      <td>0</td>\n",
              "      <td>0</td>\n",
              "      <td>0</td>\n",
              "      <td>1</td>\n",
              "    </tr>\n",
              "  </tbody>\n",
              "</table>\n",
              "</div>"
            ],
            "text/plain": [
              "   age  sex  trestbps  chol  fbs  ...  thal_2  thal_3  slope_0  slope_1  slope_2\n",
              "0   63    1       145   233    1  ...       0       0        1        0        0\n",
              "1   37    1       130   250    0  ...       1       0        1        0        0\n",
              "2   41    0       130   204    0  ...       1       0        0        0        1\n",
              "3   56    1       120   236    0  ...       1       0        0        0        1\n",
              "4   57    0       120   354    0  ...       1       0        0        0        1\n",
              "\n",
              "[5 rows x 22 columns]"
            ]
          },
          "metadata": {
            "tags": []
          },
          "execution_count": 21
        }
      ]
    },
    {
      "cell_type": "markdown",
      "metadata": {
        "_uuid": "ea92dc67483868424e1bb15527d28be93dfeb208",
        "id": "GiV56QY7Z1ej"
      },
      "source": [
        "\n",
        "\n",
        "<div dir=rtl>\n",
        "\n",
        " ## پیاده سازی رگرسیون لجستیک\n",
        "<br>\n",
        "\n",
        "\n",
        "\n",
        "برای اینکار میتوان بسادگی از کتابخانه scikit-learn\n",
        "استفاده کرد ولی از آنجایی که در متن پروژه از ما خواسته شده که الگوریتم را پیاده سازی کنیم در این مرحله شروع به پیاده سازی رگرسیون لجستیک بدون استفاده از کتابخانه میکنیم و در ادامه چندین الگوریتم یادگیری ماشین از جمله رگرسیون لجستیک را با استفاده از کتابخانه پیاده سازی میکنیم.\n",
        "\n",
        "\n",
        "\n",
        "منابع پیاده سازی رگرسیون لجستیک:\n",
        "\n",
        "\n",
        "[کورسرا](https://www.coursera.org/lecture/neural-networks-deep-learning/forward-and-backward-propagation-znwiG)\n",
        "\n",
        "[فرادرس](https://blog.faradars.org/logistic-regression-in-python/)\n",
        "\n",
        "\n",
        "[گیت هاب](https://github.com/kulkarniankita/LogisticRegression/blob/master/log.py)\n",
        "</div>\n",
        "\n",
        "\n"
      ]
    },
    {
      "cell_type": "code",
      "metadata": {
        "_uuid": "2e4577118ef837e24c955ea81562d8fb51a22b1c",
        "id": "QlTmSgw2Z1ej"
      },
      "source": [
        "y = df.target.values\n",
        "x_data = df.drop(['target'], axis = 1)"
      ],
      "execution_count": 22,
      "outputs": []
    },
    {
      "cell_type": "markdown",
      "metadata": {
        "_uuid": "ee237d0ae2c7686cf7fda643f32bb55add7b4787",
        "id": "YqdD0C11Z1ek"
      },
      "source": [
        "\n",
        "\n",
        "\n",
        "<div dir=auto>\n",
        "\n",
        "## نرمال سازی داده ها\n",
        "<br>\n",
        "<br>\n",
        "<img src=\"https://cdn1.bbcode0.com/uploads/2021/2/3/29afc2e2a79ecb62a3b9f9000183732a-full.jpg\" width=\"*200px*\"/>\n",
        "\n",
        "</dir>"
      ]
    },
    {
      "cell_type": "markdown",
      "metadata": {
        "id": "mmyKd3FnF0MX"
      },
      "source": [
        "<div dir=auto>\n",
        "\n",
        "## نرمال سازی داده ها\n",
        "\n",
        "\n",
        "</dir>\n",
        "\n"
      ]
    },
    {
      "cell_type": "code",
      "metadata": {
        "_uuid": "c60916b235e1962a53f95593b8d020c0acc079ed",
        "id": "5e_e4i12Z1ek"
      },
      "source": [
        "x = (x_data - np.min(x_data)) / (np.max(x_data) - np.min(x_data)).values"
      ],
      "execution_count": 23,
      "outputs": []
    },
    {
      "cell_type": "markdown",
      "metadata": {
        "_uuid": "ef33f3d73211dca77ef04035492c6772685822bb",
        "id": "7obGwBm7Z1el"
      },
      "source": [
        "\n",
        "\n",
        "\n",
        "<div dir=rtl>\n",
        "80 درصد داده ها موجود را به یادگیری تخصیص میدیم\n",
        "\n",
        "20 درصد داده ها هم برای تست\n",
        "</div>"
      ]
    },
    {
      "cell_type": "code",
      "metadata": {
        "_uuid": "3090d1ba1e8776706d23a1175db6d1451908a954",
        "id": "XLizT5MSZ1el"
      },
      "source": [
        "x_train, x_test, y_train, y_test = train_test_split(x,y,test_size = 0.2,random_state=0)"
      ],
      "execution_count": 24,
      "outputs": []
    },
    {
      "cell_type": "code",
      "metadata": {
        "_uuid": "880e2db253fd1125bfa065ba0ae8840b68687e42",
        "id": "tusJhxgZZ1el"
      },
      "source": [
        "#transpose matrices\n",
        "x_train = x_train.T\n",
        "y_train = y_train.T\n",
        "x_test = x_test.T\n",
        "y_test = y_test.T"
      ],
      "execution_count": 25,
      "outputs": []
    },
    {
      "cell_type": "code",
      "metadata": {
        "_uuid": "e98deb17b979b67f57be48517cdcf631cd5363bc",
        "id": "NagCIK0UZ1em"
      },
      "source": [
        "#initialize\n",
        "def initialize(dimension):\n",
        "    \n",
        "    weight = np.full((dimension,1),0.01)\n",
        "    bias = 0.0\n",
        "    return weight,bias"
      ],
      "execution_count": 26,
      "outputs": []
    },
    {
      "cell_type": "markdown",
      "metadata": {
        "_uuid": "d707c6af5f7d32c9d699494cfbeddc04a687d4f3",
        "id": "U4y__VPzZ1en"
      },
      "source": [
        "\n",
        "\n",
        "<div dir=auto>\n",
        "\n",
        "## تابع سیگموند\n",
        "<br>\n",
        "<img src=\"https://qph.fs.quoracdn.net/main-qimg-05edc1873d0103e36064862a45566dba\" width=\"500px\"/>\n",
        "\n",
        "</dir>"
      ]
    },
    {
      "cell_type": "code",
      "metadata": {
        "_uuid": "116fc66d415563ca82b5400b7852cce9dad004ba",
        "id": "_f1PmRhDZ1eo"
      },
      "source": [
        "def sigmoid(z):\n",
        "    \n",
        "    y_head = 1/(1+ np.exp(-z))\n",
        "    return y_head"
      ],
      "execution_count": 27,
      "outputs": []
    },
    {
      "cell_type": "markdown",
      "metadata": {
        "_uuid": "3363dced8043a7db0ec0dc0464e14ff669c5b1d6",
        "id": "qDoEkJRSZ1eo"
      },
      "source": [
        "Forward and Backward Propagation\n",
        "\n",
        "\n",
        "<br>\n",
        "<img src=\"https://image.slidesharecdn.com/gradientdescentbackpropandautomaticdifferentiation-160829164205/95/gradient-descent-back-propagation-and-auto-differentiation-advanced-spark-and-tensorflow-meetup-08042016-62-638.jpg?cb=1472489358\" width=\"500px\"/>"
      ]
    },
    {
      "cell_type": "markdown",
      "metadata": {
        "_uuid": "656c61dffe4729c195d84d117b2b8aa63c1cf9aa",
        "id": "MtNw-NviZ1ep"
      },
      "source": [
        "\n",
        "\n",
        "<div dir=auto>\n",
        "\n",
        "## تابع هزینه\n",
        "\n",
        "<br>\n",
        "<img src=\"https://i.stack.imgur.com/XbU4S.png\" width=\"500px\"/>\n",
        "\n",
        "</dir>"
      ]
    },
    {
      "cell_type": "markdown",
      "metadata": {
        "_uuid": "948cf49e3a372a223ffcb809933e6aa0c1ad9515",
        "id": "Mk53n-TjZ1ep"
      },
      "source": [
        "\n",
        "\n",
        "\n",
        "<div dir=auto>\n",
        "\n",
        "## گرادیان کاهشی\n",
        "<br>\n",
        "<img src=\"https://i.stack.imgur.com/pYVzl.png\" width=\"500px\"/>\n",
        "\n",
        "</dir>"
      ]
    },
    {
      "cell_type": "markdown",
      "metadata": {
        "_uuid": "34307d9833893a492402f94a467267175a24c8d8",
        "id": "--aVyUoAZ1ep"
      },
      "source": [
        "\n",
        "<div dir=auto>\n",
        "\n",
        "طبق فرمول داریم: <br>\n",
        "\n",
        "\n",
        "</dir>\n",
        "\n",
        "* h0(x^i)= y_head\n",
        "* y^i = y_train\n",
        "* x^i = x_train\n"
      ]
    },
    {
      "cell_type": "code",
      "metadata": {
        "_uuid": "5998fbc58a696070458297830e30d4e4b036396d",
        "id": "hXe-sjQpZ1eq"
      },
      "source": [
        "def forwardBackward(weight,bias,x_train,y_train):\n",
        "    # Forward\n",
        "    \n",
        "    y_head = sigmoid(np.dot(weight.T,x_train) + bias)\n",
        "    loss = -(y_train*np.log(y_head) + (1-y_train)*np.log(1-y_head))\n",
        "    cost = np.sum(loss) / x_train.shape[1]\n",
        "    \n",
        "    # Backward\n",
        "    derivative_weight = np.dot(x_train,((y_head-y_train).T))/x_train.shape[1]\n",
        "    derivative_bias = np.sum(y_head-y_train)/x_train.shape[1]\n",
        "    gradients = {\"Derivative Weight\" : derivative_weight, \"Derivative Bias\" : derivative_bias}\n",
        "    \n",
        "    return cost,gradients"
      ],
      "execution_count": 28,
      "outputs": []
    },
    {
      "cell_type": "code",
      "metadata": {
        "_uuid": "0241c5bec516229c2832728e27782c273ca35b57",
        "id": "vU0OX_mbZ1eq"
      },
      "source": [
        "def update(weight,bias,x_train,y_train,learningRate,iteration) :\n",
        "    costList = []\n",
        "    index = []\n",
        "    \n",
        "    #for each iteration, update weight and bias values\n",
        "    for i in range(iteration):\n",
        "        cost,gradients = forwardBackward(weight,bias,x_train,y_train)\n",
        "        weight = weight - learningRate * gradients[\"Derivative Weight\"]\n",
        "        bias = bias - learningRate * gradients[\"Derivative Bias\"]\n",
        "        \n",
        "        costList.append(cost)\n",
        "        index.append(i)\n",
        "\n",
        "    parameters = {\"weight\": weight,\"bias\": bias}\n",
        "    \n",
        "    print(\"iteration:\",iteration)\n",
        "    print(\"cost:\",cost)\n",
        "\n",
        "    plt.plot(index,costList)\n",
        "    plt.xlabel(\"Number of Iteration\")\n",
        "    plt.ylabel(\"Cost\")\n",
        "    plt.show()\n",
        "\n",
        "    return parameters, gradients"
      ],
      "execution_count": 29,
      "outputs": []
    },
    {
      "cell_type": "code",
      "metadata": {
        "_uuid": "a97c3ff651d88b280eb87ec076040f0becaf1f3e",
        "id": "GwG3D3uUZ1er"
      },
      "source": [
        "def predict(weight,bias,x_test):\n",
        "    z = np.dot(weight.T,x_test) + bias\n",
        "    y_head = sigmoid(z)\n",
        "\n",
        "    y_prediction = np.zeros((1,x_test.shape[1]))\n",
        "    \n",
        "    for i in range(y_head.shape[1]):\n",
        "        if y_head[0,i] <= 0.5:\n",
        "            y_prediction[0,i] = 0\n",
        "        else:\n",
        "            y_prediction[0,i] = 1\n",
        "    return y_prediction"
      ],
      "execution_count": 30,
      "outputs": []
    },
    {
      "cell_type": "code",
      "metadata": {
        "_uuid": "1b3ae665060ba757d8e0f5f29458fadf4be144ff",
        "id": "j-cUMp-SZ1er"
      },
      "source": [
        "def logistic_regression(x_train,y_train,x_test,y_test,learningRate,iteration):\n",
        "    dimension = x_train.shape[0]\n",
        "    weight,bias = initialize(dimension)\n",
        "    \n",
        "    parameters, gradients = update(weight,bias,x_train,y_train,learningRate,iteration)\n",
        "\n",
        "    y_prediction = predict(parameters[\"weight\"],parameters[\"bias\"],x_test)\n",
        "    \n",
        "    print(\"Manuel Test Accuracy: {:.2f}%\".format((100 - np.mean(np.abs(y_prediction - y_test))*100)))"
      ],
      "execution_count": 31,
      "outputs": []
    },
    {
      "cell_type": "code",
      "metadata": {
        "_uuid": "d866efadafcc3b49a90016c00da6c4d981cd8837",
        "colab": {
          "base_uri": "https://localhost:8080/",
          "height": 330
        },
        "id": "MeSUrlKNZ1es",
        "outputId": "257a3e7c-3c9d-46af-f9f1-1e800efc6121"
      },
      "source": [
        "logistic_regression(x_train,y_train,x_test,y_test,1,100)"
      ],
      "execution_count": 32,
      "outputs": [
        {
          "output_type": "stream",
          "text": [
            "iteration: 100\n",
            "cost: 0.35977361236645333\n"
          ],
          "name": "stdout"
        },
        {
          "output_type": "display_data",
          "data": {
            "image/png": "[encoded data removed]",
            "text/plain": [
              "<Figure size 432x288 with 1 Axes>"
            ]
          },
          "metadata": {
            "tags": [],
            "needs_background": "light"
          }
        },
        {
          "output_type": "stream",
          "text": [
            "Manuel Test Accuracy: 86.89%\n"
          ],
          "name": "stdout"
        }
      ]
    },
    {
      "cell_type": "markdown",
      "metadata": {
        "_uuid": "75562006d1e3767f2a62c07301cce8766a3cf917",
        "id": "y1H7giydZ1es"
      },
      "source": [
        "\n",
        "\n",
        "<div dir=auto>\n",
        "\n",
        "## <font color=\"blue\"> دقت روی داده های تست  <font color=\"red\">**٪86.89**</font></font><br>\n",
        "\n",
        "\n",
        "</dir>\n",
        "\n",
        "پیاده سازی به کتابخانه\n"
      ]
    },
    {
      "cell_type": "markdown",
      "metadata": {
        "_uuid": "7ffb9f8fde45b53fb9bb6fbe25dc7339b1b15649",
        "id": "3ssK2SGrZ1et"
      },
      "source": [
        "<div dir=auto>\n",
        "\n",
        "## رگرسیون لجستیک با کتابخانه scikit-learn\n",
        "\n",
        "\n",
        "</dir>"
      ]
    },
    {
      "cell_type": "code",
      "metadata": {
        "_uuid": "5592396ddebe9346767a2a34dd20abf300e5c730",
        "colab": {
          "base_uri": "https://localhost:8080/"
        },
        "id": "HNMPeowcZ1et",
        "outputId": "a83dd778-4524-47d1-9642-0d9c446563ed"
      },
      "source": [
        "accuracies = {}\n",
        "\n",
        "lr = LogisticRegression()\n",
        "lr.fit(x_train.T,y_train.T)\n",
        "acc = lr.score(x_test.T,y_test.T)*100\n",
        "\n",
        "accuracies['Logistic Regression'] = acc\n",
        "print(\"Test Accuracy {:.2f}%\".format(acc))"
      ],
      "execution_count": 33,
      "outputs": [
        {
          "output_type": "stream",
          "text": [
            "Test Accuracy 86.89%\n"
          ],
          "name": "stdout"
        }
      ]
    },
    {
      "cell_type": "markdown",
      "metadata": {
        "_uuid": "e483010f6bf26cc8801061b5122e632fcac5337e",
        "id": "_8gI1wGSZ1eu"
      },
      "source": [
        "\n",
        "\n",
        "<div dir=auto>\n",
        "\n",
        "## <font color=\"blue\">دقت KNN روی داده های تست  <font color=\"red\">**٪86.89**</font></font><br>\n",
        "\n",
        "مشابه حالتی که بدون کتابخانه پیاده سازی کردیم\n",
        "\n",
        "</div>\n"
      ]
    },
    {
      "cell_type": "markdown",
      "metadata": {
        "_uuid": "b0a524cdd6eb069d02aab429a1cf2024ab54cf18",
        "id": "DYV6HxMbZ1eu"
      },
      "source": [
        "\n",
        "<div dir=auto>\n",
        "\n",
        "## پیاده سازی KNN\n",
        "<br>\n",
        "\n",
        "\n",
        "</dir>"
      ]
    },
    {
      "cell_type": "markdown",
      "metadata": {
        "_uuid": "2a9f77931e249f18b5247349932fbf650d9052fe",
        "id": "rHHLpNlqZ1ev"
      },
      "source": [
        "**KNN الگوریتم**\n",
        "<br>\n",
        "<img src=\"https://programstore.ir/wp-content/uploads/2018/04/KNN-1.png\"/>\n",
        "\n",
        "\n",
        "[منبع تصویر](https://programstore.ir/%D8%A7%D9%84%DA%AF%D9%88%D8%B1%DB%8C%D8%AA%D9%85-%DB%8C%D8%A7%D8%AF%DA%AF%DB%8C%D8%B1%DB%8C-%D9%85%D8%A7%D8%B4%DB%8C%D9%86-k-%D9%86%D8%B2%D8%AF%DB%8C%DA%A9%E2%80%8C%D8%AA%D8%B1%DB%8C%D9%86-%D9%87/)"
      ]
    },
    {
      "cell_type": "markdown",
      "metadata": {
        "id": "xPco8cjtLd4k"
      },
      "source": [
        "\n",
        "\n",
        "\n",
        "<div dir=auto>\n",
        "\n",
        "## پیاده سازی مدل KNN\n",
        "\n",
        "مقدار پیش فرض برای تعداد همسایه ها \n",
        "\n",
        "**K = 2**\n",
        "\n",
        "</dir>"
      ]
    },
    {
      "cell_type": "code",
      "metadata": {
        "_uuid": "b5d2956d9f265b47645ec2a6cd2eb7d50af5783a",
        "colab": {
          "base_uri": "https://localhost:8080/"
        },
        "id": "nvjmZX3GZ1ev",
        "outputId": "dbc67410-d0d9-4f08-c063-6affc6faef2f"
      },
      "source": [
        "# KNN Model\n",
        "from sklearn.neighbors import KNeighborsClassifier\n",
        "knn = KNeighborsClassifier(n_neighbors = 2)  # n_neighbors means k\n",
        "knn.fit(x_train.T, y_train.T)\n",
        "prediction = knn.predict(x_test.T)\n",
        "\n",
        "print(\"{} NN Score: {:.2f}%\".format(2, knn.score(x_test.T, y_test.T)*100))"
      ],
      "execution_count": 34,
      "outputs": [
        {
          "output_type": "stream",
          "text": [
            "2 NN Score: 77.05%\n"
          ],
          "name": "stdout"
        }
      ]
    },
    {
      "cell_type": "markdown",
      "metadata": {
        "id": "QTxrD7lIMAy_"
      },
      "source": [
        "\n",
        "\n",
        "\n",
        "<div dir=auto>\n",
        "\n",
        "## یافتن مناسبترین تعداد همسایه \n",
        "\n",
        "از 1 همسایه تا 20 همسایه تست میکنیم تا بهترین جواب را به عنوان K انتخاب میکنیم\n",
        "\n",
        "</dir>"
      ]
    },
    {
      "cell_type": "code",
      "metadata": {
        "_uuid": "8db6f0c13aa1462624cf0da04a03c9ee4db8a991",
        "colab": {
          "base_uri": "https://localhost:8080/",
          "height": 296
        },
        "id": "hgFlyiU-Z1ew",
        "outputId": "5b051dbd-5156-4bc5-abcd-693f2afb510b"
      },
      "source": [
        "scoreList = []\n",
        "for i in range(1,20):\n",
        "    knn2 = KNeighborsClassifier(n_neighbors = i)  # n_neighbors means k\n",
        "    knn2.fit(x_train.T, y_train.T)\n",
        "    scoreList.append(knn2.score(x_test.T, y_test.T))\n",
        "    \n",
        "plt.plot(range(1,20), scoreList)\n",
        "plt.xticks(np.arange(1,20,1))\n",
        "plt.xlabel(\"K value\")\n",
        "plt.ylabel(\"Score\")\n",
        "plt.show()\n",
        "\n",
        "acc = max(scoreList)*100\n",
        "accuracies['KNN'] = acc\n",
        "print(\"Maximum KNN Score is {:.2f}%\".format(acc))"
      ],
      "execution_count": 35,
      "outputs": [
        {
          "output_type": "display_data",
          "data": {
            "image/png": "[encoded data removed]",
            "text/plain": [
              "<Figure size 432x288 with 1 Axes>"
            ]
          },
          "metadata": {
            "tags": [],
            "needs_background": "light"
          }
        },
        {
          "output_type": "stream",
          "text": [
            "Maximum KNN Score is 88.52%\n"
          ],
          "name": "stdout"
        }
      ]
    },
    {
      "cell_type": "markdown",
      "metadata": {
        "_uuid": "02ec17348cc5c31a9f15ed8c132b8e3cf6e915c4",
        "id": "6FdeSQ_KZ1ew"
      },
      "source": [
        "\n",
        "\n",
        "<div dir=auto>\n",
        "\n",
        "طبق نمودار بالا ما در سه حالت همسایگی، بهترین دقت را بدست آوردیم\n",
        "3, 7, 8  <br>\n",
        "## <font color=\"green\"> دقت KNN در مدل <font color=\"red\">٪88.52</font></font>\n",
        "\n",
        "</dir>"
      ]
    },
    {
      "cell_type": "markdown",
      "metadata": {
        "_uuid": "ca03737d17129db8ac352aa7e2eb5ea71826f63b",
        "id": "SEVlP19pZ1ex"
      },
      "source": [
        "\n",
        "<div dir=auto>\n",
        "\n",
        "## الگوریتم ماشین های پشتیبان SVM\n",
        "\n",
        "\n",
        "پیاده سازی الگوریتم ماشین های بردار پشتیبانی\n",
        "</div>\n"
      ]
    },
    {
      "cell_type": "markdown",
      "metadata": {
        "_uuid": "a0eec2569ee5065a6f6fd7a25ed7f38c371b0afa",
        "id": "jWcy6CmuZ1ex"
      },
      "source": [
        "**Support Vector Machine Algorithm**\n",
        "<br>\n",
        "\n",
        "\n",
        "<div dir=auto>\n",
        "\n",
        "<img src=\"https://cdn-images-1.medium.com/max/1600/1*TudH6YvvH7-h5ZyF2dJV2w.jpeg\" width=\"500px\"/><br>\n",
        "<img src=\"https://aitrends.com/wp-content/uploads/2018/01/1-19SVM-2.jpg\" width=\"500px\"/>\n",
        "\n",
        "\n",
        "\n",
        "[منابع تصویر 1\n",
        "](https://www.medium.com/)\n",
        "\n",
        "\n",
        "[منابع تصویر 2\n",
        "](https://www.aitrends.com/)\n",
        "\n",
        "</dir>"
      ]
    },
    {
      "cell_type": "code",
      "metadata": {
        "_uuid": "f51e85b552168f5ce56a43dd8ccb6452ee661317",
        "id": "uZ9svNKCZ1ex"
      },
      "source": [
        "from sklearn.svm import SVC"
      ],
      "execution_count": 36,
      "outputs": []
    },
    {
      "cell_type": "code",
      "metadata": {
        "_uuid": "28b9d504870997c3213b4c26e75cd4e3d92d6275",
        "colab": {
          "base_uri": "https://localhost:8080/"
        },
        "id": "8FEixLP-Z1ey",
        "outputId": "657b0239-8f48-497a-bded-0f207200d09f"
      },
      "source": [
        "svm = SVC(random_state = 1)\n",
        "svm.fit(x_train.T, y_train.T)\n",
        "\n",
        "acc = svm.score(x_test.T,y_test.T)*100\n",
        "accuracies['SVM'] = acc\n",
        "print(\"Test Accuracy of SVM Algorithm: {:.2f}%\".format(acc))"
      ],
      "execution_count": 37,
      "outputs": [
        {
          "output_type": "stream",
          "text": [
            "Test Accuracy of SVM Algorithm: 88.52%\n"
          ],
          "name": "stdout"
        }
      ]
    },
    {
      "cell_type": "markdown",
      "metadata": {
        "_uuid": "d4107ae5690372c7c5ebdea21a46ea7e04adeefa",
        "id": "QVNMUNyFZ1ey"
      },
      "source": [
        "\n",
        "\n",
        "\n",
        "<div dir=auto>\n",
        "\n",
        "## <font color=\"orange\">SVM میزان دقت الگوریتم  <font color=\"red\">%86.89</font></font>\n",
        "\n",
        "</dir>"
      ]
    },
    {
      "cell_type": "markdown",
      "metadata": {
        "_uuid": "058a659cd261c900ff5ce0c6894420cbc0d00232",
        "id": "atTueCuQZ1ey"
      },
      "source": [
        "\n",
        "\n",
        "<div dir=auto>\n",
        "\n",
        "## الگوریتم بیز\n",
        "\n",
        "\n",
        "</dir>"
      ]
    },
    {
      "cell_type": "markdown",
      "metadata": {
        "_uuid": "cb36324c6650e7371de9e77e53d6a531dd94a93a",
        "id": "-r2eZLtSZ1ez"
      },
      "source": [
        "**Naive Bayes Algorithm**\n",
        "<br>\n",
        "<img src=\"https://s3.ap-south-1.amazonaws.com/techleer/204.png\" width=\"500px\"/>"
      ]
    },
    {
      "cell_type": "code",
      "metadata": {
        "_uuid": "0544f45710912dab11c597b9a743bdc712f1e826",
        "colab": {
          "base_uri": "https://localhost:8080/"
        },
        "id": "h-48MooHZ1ez",
        "outputId": "32265779-8eca-4164-a99f-e241b625e9c4"
      },
      "source": [
        "from sklearn.naive_bayes import GaussianNB\n",
        "nb = GaussianNB()\n",
        "nb.fit(x_train.T, y_train.T)\n",
        "\n",
        "acc = nb.score(x_test.T,y_test.T)*100\n",
        "accuracies['Naive Bayes'] = acc\n",
        "print(\"Accuracy of Naive Bayes: {:.2f}%\".format(acc))"
      ],
      "execution_count": 38,
      "outputs": [
        {
          "output_type": "stream",
          "text": [
            "Accuracy of Naive Bayes: 86.89%\n"
          ],
          "name": "stdout"
        }
      ]
    },
    {
      "cell_type": "markdown",
      "metadata": {
        "_uuid": "678daa3a73af2129b879f759a22eb6ea7e70370e",
        "id": "JYM5JmGPZ1ez"
      },
      "source": [
        "\n",
        "<div dir=auto>\n",
        "\n",
        "## <font color=\"magenta\">میزان دقت بیز <font color=\"red\">٪86.89</font></font>\n",
        "\n",
        "\n",
        "</dir>"
      ]
    },
    {
      "cell_type": "markdown",
      "metadata": {
        "_uuid": "998124b79b0c01da04cf9992112eafb60bdb857a",
        "id": "O8qgKomsZ1e0"
      },
      "source": [
        "\n",
        "\n",
        "<div dir=auto>\n",
        "\n",
        "## الگوریتم درخت تصمیم\n",
        "\n",
        "\n",
        "</dir>"
      ]
    },
    {
      "cell_type": "markdown",
      "metadata": {
        "_uuid": "cd08ae4ab93fa7de207a80412f4a8cdfb8cfd932",
        "id": "R_6oOB_VZ1e0"
      },
      "source": [
        "**Decision Tree Algorithm**\n",
        "<br>\n",
        "![image.png](https://static.javatpoint.com/tutorial/machine-learning/images/decision-tree-classification-algorithm.png)"
      ]
    },
    {
      "cell_type": "code",
      "metadata": {
        "_uuid": "a3f57a094e75c7072857cb8adb40afa3fead5a26",
        "colab": {
          "base_uri": "https://localhost:8080/"
        },
        "id": "tCYYJT5uZ1e0",
        "outputId": "03dfc4d1-f684-4733-adb5-f79b59ed85aa"
      },
      "source": [
        "from sklearn.tree import DecisionTreeClassifier\n",
        "dtc = DecisionTreeClassifier()\n",
        "dtc.fit(x_train.T, y_train.T)\n",
        "\n",
        "acc = dtc.score(x_test.T, y_test.T)*100\n",
        "accuracies['Decision Tree'] = acc\n",
        "print(\"Decision Tree Test Accuracy {:.2f}%\".format(acc))"
      ],
      "execution_count": 39,
      "outputs": [
        {
          "output_type": "stream",
          "text": [
            "Decision Tree Test Accuracy 80.33%\n"
          ],
          "name": "stdout"
        }
      ]
    },
    {
      "cell_type": "markdown",
      "metadata": {
        "_uuid": "b6914af2063b8991db2db75edb1e5eebee108b1c",
        "id": "GtSARXq-Z1e1"
      },
      "source": [
        "\n",
        "\n",
        "\n",
        "<div dir=auto>\n",
        "\n",
        "## <font color=\"#CFC60E\">میزان دقت درخت تصمیم روی داده های تست <font color=\"red\">٪78.69</font></font>\n",
        "\n",
        "</dir>"
      ]
    },
    {
      "cell_type": "markdown",
      "metadata": {
        "_uuid": "8b409e74067d3b7acfb1841fb35be018fbb92183",
        "id": "cS-tYh0WZ1e1"
      },
      "source": [
        "\n",
        "\n",
        "\n",
        "<div dir=auto>\n",
        "\n",
        "## الگوریتم جنگل تصادفی\n",
        "\n",
        "[منبع پیاده سازی](http://www.tahlildadeh.com/ArticleDetails/Random-Forest)\n",
        "\n",
        "<br>\n",
        "<img src=\"https://upload.wikimedia.org/wikipedia/commons/7/76/Random_forest_diagram_complete.png\" width=\"500px\"/>\n",
        "\n",
        "</dir>\n"
      ]
    },
    {
      "cell_type": "code",
      "metadata": {
        "_uuid": "c81ae8e5658bea3a910901e6bc35a319bba701a9",
        "colab": {
          "base_uri": "https://localhost:8080/"
        },
        "id": "zgGYiGkjZ1e1",
        "outputId": "2b68b08a-305f-44c7-d1e5-0ae1eb8aa5c8"
      },
      "source": [
        "# Random Forest Classification\n",
        "from sklearn.ensemble import RandomForestClassifier\n",
        "rf = RandomForestClassifier(n_estimators = 1000, random_state = 1)\n",
        "rf.fit(x_train.T, y_train.T)\n",
        "\n",
        "acc = rf.score(x_test.T,y_test.T)*100\n",
        "accuracies['Random Forest'] = acc\n",
        "print(\"Random Forest Algorithm Accuracy Score : {:.2f}%\".format(acc))"
      ],
      "execution_count": 40,
      "outputs": [
        {
          "output_type": "stream",
          "text": [
            "Random Forest Algorithm Accuracy Score : 88.52%\n"
          ],
          "name": "stdout"
        }
      ]
    },
    {
      "cell_type": "markdown",
      "metadata": {
        "_uuid": "a0ce99be479572718f67cf4cc178299fdd9ff6a1",
        "id": "cRB4msQ2Z1e2"
      },
      "source": [
        "\n",
        "\n",
        "<div dir=auto>\n",
        "\n",
        "## <font color=\"#0FBBAE\">میزان دقت الگوریتم جنگل تصادفی <font color=\"red\">٪88.52</font></font>\n",
        "\n",
        "</dir>\n"
      ]
    },
    {
      "cell_type": "markdown",
      "metadata": {
        "_uuid": "3ba9f36a63105b2557e4314be41dc9620fab27f6",
        "id": "zqtwaH_mZ1e2"
      },
      "source": [
        "\n",
        "<div dir=auto>\n",
        "\n",
        "## مقایسه مدل ها\n",
        "\n",
        "\n",
        "</dir>\n"
      ]
    },
    {
      "cell_type": "code",
      "metadata": {
        "_uuid": "9e594d64f9a20255ca8687179d858e3dce855136",
        "colab": {
          "base_uri": "https://localhost:8080/",
          "height": 334
        },
        "id": "zdKoK5-jZ1e2",
        "outputId": "c11db6e1-a19d-43f9-e364-29b45fa2216e"
      },
      "source": [
        "colors = [\"purple\", \"green\", \"orange\", \"magenta\",\"#CFC60E\",\"#0FBBAE\"]\n",
        "\n",
        "sns.set_style(\"whitegrid\")\n",
        "plt.figure(figsize=(16,5))\n",
        "plt.yticks(np.arange(0,100,10))\n",
        "plt.ylabel(\"Accuracy %\")\n",
        "plt.xlabel(\"Algorithms\")\n",
        "sns.barplot(x=list(accuracies.keys()), y=list(accuracies.values()), palette=colors)\n",
        "plt.show()"
      ],
      "execution_count": 41,
      "outputs": [
        {
          "output_type": "display_data",
          "data": {
            "image/png": "[encoded data removed]",
            "text/plain": [
              "<Figure size 1152x360 with 1 Axes>"
            ]
          },
          "metadata": {
            "tags": []
          }
        }
      ]
    },
    {
      "cell_type": "markdown",
      "metadata": {
        "_uuid": "3300e662f1fffbcc9c9aea95d6c11e559e84e412",
        "id": "Ps8vnLsYZ1e3"
      },
      "source": [
        "\n",
        "\n",
        "<div dir=rtl>\n",
        "مدل های ما خوب کار می کنند اما بهترین آنها KNN و Random Forest با 88.52٪ دقت است. بیایید ماتریس های درهم ریختگی آنها را بررسی کنیم.\n",
        "\n",
        "</div>"
      ]
    },
    {
      "cell_type": "markdown",
      "metadata": {
        "_uuid": "0f8e3cd00eb3f1c573468e4a8708d7a6ca8df67b",
        "id": "r53bIdN1Z1e3"
      },
      "source": [
        "\n",
        "\n",
        "\n",
        "\n",
        "<div dir=auto>\n",
        "\n",
        "## ماتریس درهم ریختگی\n",
        "\n",
        "[منبع](https://blog.faradars.org/confusion-matrix-from-zero-to-hero/)\n",
        "\n",
        "</dir>"
      ]
    },
    {
      "cell_type": "code",
      "metadata": {
        "_uuid": "3a280577a5739b773e3ce0ca50d3cda671ba9a32",
        "id": "4w0D-Lf4Z1e4"
      },
      "source": [
        "# Predicted values\n",
        "y_head_lr = lr.predict(x_test.T)\n",
        "knn3 = KNeighborsClassifier(n_neighbors = 3)\n",
        "knn3.fit(x_train.T, y_train.T)\n",
        "y_head_knn = knn3.predict(x_test.T)\n",
        "y_head_svm = svm.predict(x_test.T)\n",
        "y_head_nb = nb.predict(x_test.T)\n",
        "y_head_dtc = dtc.predict(x_test.T)\n",
        "y_head_rf = rf.predict(x_test.T)"
      ],
      "execution_count": 42,
      "outputs": []
    },
    {
      "cell_type": "code",
      "metadata": {
        "_uuid": "89e2140778e93d3eecfc41d5b995cb9131633313",
        "id": "dfJNNHJSZ1e4"
      },
      "source": [
        "from sklearn.metrics import confusion_matrix\n",
        "\n",
        "cm_lr = confusion_matrix(y_test,y_head_lr)\n",
        "cm_knn = confusion_matrix(y_test,y_head_knn)\n",
        "cm_svm = confusion_matrix(y_test,y_head_svm)\n",
        "cm_nb = confusion_matrix(y_test,y_head_nb)\n",
        "cm_dtc = confusion_matrix(y_test,y_head_dtc)\n",
        "cm_rf = confusion_matrix(y_test,y_head_rf)\n"
      ],
      "execution_count": 43,
      "outputs": []
    },
    {
      "cell_type": "code",
      "metadata": {
        "_uuid": "b91a2a68b5cc12ea58f255731cf76d49fd2ed5ec",
        "colab": {
          "base_uri": "https://localhost:8080/",
          "height": 787
        },
        "id": "m0G15HKGZ1e4",
        "outputId": "eb9aa6af-7cce-43d4-e46b-9d3ef6072772"
      },
      "source": [
        "plt.figure(figsize=(24,12))\n",
        "\n",
        "plt.suptitle(\"Confusion Matrixes\",fontsize=24)\n",
        "plt.subplots_adjust(wspace = 0.4, hspace= 0.4)\n",
        "\n",
        "plt.subplot(2,3,1)\n",
        "plt.title(\"Logistic Regression Confusion Matrix\")\n",
        "sns.heatmap(cm_lr,annot=True,cmap=\"Blues\",fmt=\"d\",cbar=False, annot_kws={\"size\": 24})\n",
        "\n",
        "plt.subplot(2,3,2)\n",
        "plt.title(\"K Nearest Neighbors Confusion Matrix\")\n",
        "sns.heatmap(cm_knn,annot=True,cmap=\"Blues\",fmt=\"d\",cbar=False, annot_kws={\"size\": 24})\n",
        "\n",
        "plt.subplot(2,3,3)\n",
        "plt.title(\"Support Vector Machine Confusion Matrix\")\n",
        "sns.heatmap(cm_svm,annot=True,cmap=\"Blues\",fmt=\"d\",cbar=False, annot_kws={\"size\": 24})\n",
        "\n",
        "plt.subplot(2,3,4)\n",
        "plt.title(\"Naive Bayes Confusion Matrix\")\n",
        "sns.heatmap(cm_nb,annot=True,cmap=\"Blues\",fmt=\"d\",cbar=False, annot_kws={\"size\": 24})\n",
        "\n",
        "plt.subplot(2,3,5)\n",
        "plt.title(\"Decision Tree Classifier Confusion Matrix\")\n",
        "sns.heatmap(cm_dtc,annot=True,cmap=\"Blues\",fmt=\"d\",cbar=False, annot_kws={\"size\": 24})\n",
        "\n",
        "plt.subplot(2,3,6)\n",
        "plt.title(\"Random Forest Confusion Matrix\")\n",
        "sns.heatmap(cm_rf,annot=True,cmap=\"Blues\",fmt=\"d\",cbar=False, annot_kws={\"size\": 24})\n",
        "\n",
        "plt.show()"
      ],
      "execution_count": 44,
      "outputs": [
        {
          "output_type": "display_data",
          "data": {
            "image/png": "[encoded data removed]",
            "text/plain": [
              "<Figure size 1728x864 with 6 Axes>"
            ]
          },
          "metadata": {
            "tags": []
          }
        }
      ]
    }
  ]
}